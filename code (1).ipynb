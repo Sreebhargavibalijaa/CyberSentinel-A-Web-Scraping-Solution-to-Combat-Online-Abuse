{
  "nbformat": 4,
  "nbformat_minor": 0,
  "metadata": {
    "colab": {
      "provenance": []
    },
    "kernelspec": {
      "name": "python3",
      "display_name": "Python 3"
    },
    "language_info": {
      "name": "python"
    }
  },
  "cells": [
    {
      "cell_type": "code",
      "source": [
        "pip install requests beautifulsoup4\n"
      ],
      "metadata": {
        "colab": {
          "base_uri": "https://localhost:8080/"
        },
        "id": "r39u8kayH9jw",
        "outputId": "bc5f1bd2-4a04-4787-c5f3-949c22159428"
      },
      "execution_count": 1,
      "outputs": [
        {
          "output_type": "stream",
          "name": "stdout",
          "text": [
            "Requirement already satisfied: requests in /usr/local/lib/python3.10/dist-packages (2.31.0)\n",
            "Requirement already satisfied: beautifulsoup4 in /usr/local/lib/python3.10/dist-packages (4.12.3)\n",
            "Requirement already satisfied: charset-normalizer<4,>=2 in /usr/local/lib/python3.10/dist-packages (from requests) (3.3.2)\n",
            "Requirement already satisfied: idna<4,>=2.5 in /usr/local/lib/python3.10/dist-packages (from requests) (3.7)\n",
            "Requirement already satisfied: urllib3<3,>=1.21.1 in /usr/local/lib/python3.10/dist-packages (from requests) (2.0.7)\n",
            "Requirement already satisfied: certifi>=2017.4.17 in /usr/local/lib/python3.10/dist-packages (from requests) (2024.2.2)\n",
            "Requirement already satisfied: soupsieve>1.2 in /usr/local/lib/python3.10/dist-packages (from beautifulsoup4) (2.5)\n"
          ]
        }
      ]
    },
    {
      "cell_type": "code",
      "execution_count": 4,
      "metadata": {
        "colab": {
          "base_uri": "https://localhost:8080/"
        },
        "id": "sdX1b2FCH6nH",
        "outputId": "434760f1-fc33-452e-e36f-a08e5b8aac5f"
      },
      "outputs": [
        {
          "output_type": "stream",
          "name": "stdout",
          "text": [
            "No abusive content detected.\n"
          ]
        }
      ],
      "source": [
        "# abuse_detector.py\n",
        "\n",
        "import requests\n",
        "from bs4 import BeautifulSoup\n",
        "\n",
        "# List of abusive words for demonstration; ideally, this should be more comprehensive\n",
        "ABUSIVE_WORDS = {'abuse', 'hate', 'harm', 'insult'}\n",
        "\n",
        "def fetch_page_content(url):\n",
        "    \"\"\"Fetches the textual content of a web page given a URL.\"\"\"\n",
        "    response = requests.get(url)\n",
        "    if response.status_code == 200:\n",
        "        return response.text\n",
        "    else:\n",
        "        return \"\"\n",
        "\n",
        "def clean_text(text):\n",
        "    \"\"\"Cleans and prepares text for analysis.\"\"\"\n",
        "    soup = BeautifulSoup(text, 'html.parser')\n",
        "    return soup.get_text(separator=' ').lower()  # Get clean text and convert to lower case\n",
        "\n",
        "def check_for_abuse(content):\n",
        "    \"\"\"Checks if the content contains any abusive words.\"\"\"\n",
        "    words = content.split()\n",
        "    for word in words:\n",
        "        if word in ABUSIVE_WORDS:\n",
        "            return True\n",
        "    return False\n",
        "\n",
        "def analyze_url(url):\n",
        "    \"\"\"Analyzes a URL for abusive content.\"\"\"\n",
        "    content = fetch_page_content(url)\n",
        "    if content:\n",
        "        cleaned_text = clean_text(content)\n",
        "        if check_for_abuse(cleaned_text):\n",
        "            return \"Abusive content detected.\"\n",
        "        else:\n",
        "            return \"No abusive content detected.\"\n",
        "    else:\n",
        "        return \"Failed to retrieve content.\"\n",
        "\n",
        "if __name__ == \"__main__\":\n",
        "    # Example usage\n",
        "    test_url = 'https://en.wikipedia.org/wiki/Government_of_Maharashtra'\n",
        "    print(analyze_url(test_url))\n"
      ]
    }
  ]
}